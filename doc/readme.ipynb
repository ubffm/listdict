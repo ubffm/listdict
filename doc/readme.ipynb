{
 "cells": [
  {
   "cell_type": "markdown",
   "metadata": {},
   "source": [
    "Many libraries use data formats in the MARC tradition. At the time of this writting, the Frankfurt Universtity Library uses Pica+, but this is also a MARC-style format, though the field names are entirely different.\n",
    "\n",
    "MARC data is organized into fields, and each field contains subfields. Fields can be repeated within the record, and likewise subfields can be repeated in the field. This data is quite natural to present in XML, but is less intuitive to model in JSON, which is a bit annoying, since JSON data is much simpler to model in most dynamic programming languages, which typically provide native mapping and dynamic array types--e.g. objects and arrays in JavaScript or dictionaries and lists in Python.\n",
    "\n",
    "The consensus (in our office) is that the way to deal with this in Python is using a dictionary of lists of dictionaries of lists of values.\n",
    "\n",
    "That is, the record is a dictionary of lists of fields, and each field is a dictionary of lists of subfields.\n",
    "\n",
    "Say we have a recored like this (and we have):\n",
    "\n",
    "```\n",
    "002@ ƒ0Aauc\n",
    "003O ƒaOCoLCƒ0180456939\n",
    "004A ƒ0965-411-010-5\n",
    "007A ƒaHEBƒ0018270948\n",
    "010@ ƒaheb\n",
    "011@ ƒa1991ƒn1991\n",
    "013H ƒ0z\n",
    "015@ ƒ00\n",
    "021A ƒT01ƒULatnƒa@Mā anāšîm lô ʿôśîm bišvîl ahavāƒhIttî Nāwe\n",
    "021A ƒT01ƒUHebrƒaמה אנשים לא עושים בשביל אהבהƒhאתי נוה\n",
    "028A ƒ9162803451ƒ8Nāwe, Ittî [Tnx]\n",
    "033A ƒpTēl-ĀvîvƒnʿEqed\n",
    "034D ƒa48 S.\n",
    "037A ƒaÜbers. d. Hauptsacht.: Was Menschen nicht für Liebe machen\n",
    "046L ƒaIn hebr. Schr\n",
    "046M ƒaGedichte\n",
    "047A ƒrOriginalschrift durch autom. Retrokonversion\n",
    "101@ ƒa3\n",
    "101B ƒ005-08-16ƒt11:16:21.000\n",
    "145S/06 ƒa760\n",
    "145Z/01 ƒaZ-sl\n",
    "145Z/02 ƒa907 900 M 0659 e Nāwe, I.\n",
    "208@/01 ƒa07-11-91ƒbhAa\n",
    "201B/01 ƒ027-01-02ƒt14:55:37.677\n",
    "203@/01 ƒ0025989448\n",
    "209A/01 ƒa84.708.40ƒf000ƒduƒh84 708 40ƒx00\n",
    "209G/01 ƒa84708402ƒx00\n",
    "247C/01 ƒ9102598258ƒ8601000-3 <30>Frankfurt, Universitätsbibliothek J. C. Senckenberg, Zentralbibliothek (ZB)\n",
    "```\n",
    "\n",
    "According to the above logic, it should be represented in like this:"
   ]
  },
  {
   "cell_type": "code",
   "execution_count": 1,
   "metadata": {},
   "outputs": [],
   "source": [
    "record = {'002@': [{'0': ['Aauc']}],\n",
    " '003O': [{'0': ['180456939'], 'a': ['OCoLC']}],\n",
    " '004A': [{'0': ['965-411-010-5']}],\n",
    " '007A': [{'0': ['018270948'], 'a': ['HEB']}],\n",
    " '010@': [{'a': ['heb']}],\n",
    " '011@': [{'a': ['1991'], 'n': ['1991']}],\n",
    " '013H': [{'0': ['z']}],\n",
    " '015@': [{'0': ['0']}],\n",
    " '021A': [{'T': ['01'],\n",
    "           'U': ['Latn'],\n",
    "           'a': ['@Mā anāšîm lô ʿôśîm bišvîl ahavā'],\n",
    "           'h': ['Ittî Nāwe']},\n",
    "          {'T': ['01'],\n",
    "           'U': ['Hebr'],\n",
    "           'a': ['מה אנשים לא עושים בשביל אהבה'],\n",
    "           'h': ['אתי נוה']}],\n",
    " '028A': [{'8': ['Nāwe, Ittî [Tnx]'], '9': ['162803451']}],\n",
    " '033A': [{'n': ['ʿEqed'], 'p': ['Tēl-Āvîv']}],\n",
    " '034D': [{'a': ['48 S.']}],\n",
    " '037A': [{'a': ['Übers. d. Hauptsacht.: Was Menschen nicht für Liebe machen']}],\n",
    " '046L': [{'a': ['In hebr. Schr']}],\n",
    " '046M': [{'a': ['Gedichte']}],\n",
    " '047A': [{'r': ['Originalschrift durch autom. Retrokonversion']}],\n",
    " '101@': [{'a': ['3']}],\n",
    " '101B': [{'0': ['05-08-16'], 't': ['11:16:21.000']}],\n",
    " '145S/06': [{'a': ['760']}],\n",
    " '145Z/01': [{'a': ['Z-sl']}],\n",
    " '145Z/02': [{'a': ['907 900 M 0659 e Nāwe, I.']}],\n",
    " '201B/01': [{'0': ['27-01-02'], 't': ['14:55:37.677']}],\n",
    " '203@/01': [{'0': ['025989448']}],\n",
    " '208@/01': [{'a': ['07-11-91'], 'b': ['hAa']}],\n",
    " '209A/01': [{'a': ['84.708.40'],\n",
    "              'd': ['u'],\n",
    "              'f': ['000'],\n",
    "              'h': ['84 708 40'],\n",
    "              'x': ['00']}],\n",
    " '209G/01': [{'a': ['84708402'], 'x': ['00']}],\n",
    " '247C/01': [{'8': ['601000-3 <30>Frankfurt, Universitätsbibliothek J. C. Senckenberg, Zentralbibliothek (ZB)'],\n",
    "              '9': ['102598258']}]}"
   ]
  },
  {
   "cell_type": "markdown",
   "metadata": {},
   "source": [
    "You may rightly ask, \"why do you need all those lists that only have one item? well, normally you don't. However, sometimes the have more than one item. Them's the breaks."
   ]
  },
  {
   "cell_type": "code",
   "execution_count": 2,
   "metadata": {},
   "outputs": [
    {
     "data": {
      "text/plain": [
       "[{'T': ['01'],\n",
       "  'U': ['Latn'],\n",
       "  'a': ['@Mā anāšîm lô ʿôśîm bišvîl ahavā'],\n",
       "  'h': ['Ittî Nāwe']},\n",
       " {'T': ['01'],\n",
       "  'U': ['Hebr'],\n",
       "  'a': ['מה אנשים לא עושים בשביל אהבה'],\n",
       "  'h': ['אתי נוה']}]"
      ]
     },
     "execution_count": 2,
     "metadata": {},
     "output_type": "execute_result"
    }
   ],
   "source": [
    "record[\"021A\"]"
   ]
  },
  {
   "cell_type": "markdown",
   "metadata": {},
   "source": [
    "Two main titles. One in Hebrew letters and one in Romanized Hebrew. Though I don't believe there are any in this example, the same shenanigans can occur in some subfields.\n",
    "\n",
    "`listdict` simply provides a few functions for working with these kinds of data structures, though it supports nesting them to arbitrary depths.\n",
    "\n",
    "## listdict.iter"
   ]
  },
  {
   "cell_type": "code",
   "execution_count": 3,
   "metadata": {},
   "outputs": [
    {
     "name": "stdout",
     "output_type": "stream",
     "text": [
      "('003O', {'0': ['180456939'], 'a': ['OCoLC']})\n",
      "('021A', {'T': ['01'], 'U': ['Latn'], 'a': ['@Mā anāšîm lô ʿôśîm bišvîl ahavā'], 'h': ['Ittî Nāwe']})\n",
      "('021A', {'T': ['01'], 'U': ['Hebr'], 'a': ['מה אנשים לא עושים בשביל אהבה'], 'h': ['אתי נוה']})\n",
      "('028A', {'8': ['Nāwe, Ittî [Tnx]'], '9': ['162803451']})\n"
     ]
    }
   ],
   "source": [
    "import listdict\n",
    "\n",
    "# lets deal with fewer fields\n",
    "record = {key: record[key] for key in (\"003O\", \"021A\", \"028A\")}\n",
    "\n",
    "for field in listdict.iter(record):\n",
    "    print(field)"
   ]
  },
  {
   "cell_type": "markdown",
   "metadata": {},
   "source": [
    "As you see, each repeated field gets it's own line. To flatten the data further, you could use two loops:"
   ]
  },
  {
   "cell_type": "code",
   "execution_count": 6,
   "metadata": {},
   "outputs": [
    {
     "name": "stdout",
     "output_type": "stream",
     "text": [
      "('003O', '0', '180456939')\n",
      "('003O', 'a', 'OCoLC')\n",
      "('021A', 'T', '01')\n",
      "('021A', 'U', 'Latn')\n",
      "('021A', 'a', '@Mā anāšîm lô ʿôśîm bišvîl ahavā')\n",
      "('021A', 'h', 'Ittî Nāwe')\n",
      "('021A', 'T', '01')\n",
      "('021A', 'U', 'Hebr')\n",
      "('021A', 'a', 'מה אנשים לא עושים בשביל אהבה')\n",
      "('021A', 'h', 'אתי נוה')\n",
      "('028A', '8', 'Nāwe, Ittî [Tnx]')\n",
      "('028A', '9', '162803451')\n"
     ]
    }
   ],
   "source": [
    "for fieldname, subfields in listdict.iter(record):\n",
    "    for subfname, value in listdict.iter(subfields):\n",
    "        print((fieldname, subfname, value))"
   ]
  },
  {
   "cell_type": "markdown",
   "metadata": {},
   "source": [
    "However, this is such a normal pattern that it's included in the `iter` function:"
   ]
  },
  {
   "cell_type": "code",
   "execution_count": 7,
   "metadata": {},
   "outputs": [
    {
     "name": "stdout",
     "output_type": "stream",
     "text": [
      "('003O', '0', '180456939')\n",
      "('003O', 'a', 'OCoLC')\n",
      "('021A', 'T', '01')\n",
      "('021A', 'U', 'Latn')\n",
      "('021A', 'a', '@Mā anāšîm lô ʿôśîm bišvîl ahavā')\n",
      "('021A', 'h', 'Ittî Nāwe')\n",
      "('021A', 'T', '01')\n",
      "('021A', 'U', 'Hebr')\n",
      "('021A', 'a', 'מה אנשים לא עושים בשביל אהבה')\n",
      "('021A', 'h', 'אתי נוה')\n",
      "('028A', '8', 'Nāwe, Ittî [Tnx]')\n",
      "('028A', '9', '162803451')\n"
     ]
    }
   ],
   "source": [
    "for subfield in listdict.iter(record, depth=1):\n",
    "    print(subfield)"
   ]
  },
  {
   "cell_type": "markdown",
   "metadata": {},
   "source": [
    "`depth=1` means that the it's a listdict of listdicts, and you want to flatten both levels. You can nest them arbitrarility deep, but you need to tell `iter` how deep to go. `1` should be as deep as you ever need for MARC-style records.\n",
    "\n",
    "## listdict.getone\n",
    "\n",
    "Because most of the lists in these data structures are only one item long, it may be useful to avoid dealing with the list if you already know that a certain key has only one value."
   ]
  },
  {
   "cell_type": "code",
   "execution_count": 9,
   "metadata": {},
   "outputs": [
    {
     "data": {
      "text/plain": [
       "{'8': ['Nāwe, Ittî [Tnx]'], '9': ['162803451']}"
      ]
     },
     "execution_count": 9,
     "metadata": {},
     "output_type": "execute_result"
    }
   ],
   "source": [
    "listdict.getone(record, \"028A\")"
   ]
  },
  {
   "cell_type": "markdown",
   "metadata": {},
   "source": [
    "This also supports arbitrary nesting."
   ]
  },
  {
   "cell_type": "code",
   "execution_count": 10,
   "metadata": {},
   "outputs": [
    {
     "data": {
      "text/plain": [
       "'Nāwe, Ittî [Tnx]'"
      ]
     },
     "execution_count": 10,
     "metadata": {},
     "output_type": "execute_result"
    }
   ],
   "source": [
    "listdict.getone(record, \"028A\", \"8\")"
   ]
  },
  {
   "cell_type": "markdown",
   "metadata": {},
   "source": [
    "However, any list on the way to the target has more than one item, this method throws an error:"
   ]
  },
  {
   "cell_type": "code",
   "execution_count": 11,
   "metadata": {},
   "outputs": [
    {
     "ename": "MultipleValues",
     "evalue": "key '021A' has 2 values",
     "output_type": "error",
     "traceback": [
      "\u001b[0;31m---------------------------------------------------------------------------\u001b[0m",
      "\u001b[0;31mMultipleValues\u001b[0m                            Traceback (most recent call last)",
      "\u001b[0;32m<ipython-input-11-f6d1dc8c3a9f>\u001b[0m in \u001b[0;36m<module>\u001b[0;34m\u001b[0m\n\u001b[0;32m----> 1\u001b[0;31m \u001b[0mlistdict\u001b[0m\u001b[0;34m.\u001b[0m\u001b[0mgetone\u001b[0m\u001b[0;34m(\u001b[0m\u001b[0mrecord\u001b[0m\u001b[0;34m,\u001b[0m \u001b[0;34m\"021A\"\u001b[0m\u001b[0;34m)\u001b[0m\u001b[0;34m\u001b[0m\u001b[0;34m\u001b[0m\u001b[0m\n\u001b[0m",
      "\u001b[0;32m~/src/py/listdict/listdict/base.py\u001b[0m in \u001b[0;36mgetone\u001b[0;34m(dct, key, *subkeys)\u001b[0m\n\u001b[1;32m     73\u001b[0m     \"\"\"return one and only one value for a key in a dictionary of lists.\n\u001b[1;32m     74\u001b[0m     \u001b[0mrepeat\u001b[0m \u001b[0mon\u001b[0m \u001b[0mthe\u001b[0m \u001b[0mvalue\u001b[0m \u001b[0mrecusively\u001b[0m \u001b[0;32mfor\u001b[0m \u001b[0mall\u001b[0m \u001b[0msubkeys\u001b[0m\u001b[0;34m\u001b[0m\u001b[0;34m\u001b[0m\u001b[0m\n\u001b[0;32m---> 75\u001b[0;31m     \"\"\"\n\u001b[0m\u001b[1;32m     76\u001b[0m     \u001b[0mvalue\u001b[0m \u001b[0;34m=\u001b[0m \u001b[0mdct\u001b[0m\u001b[0;34m[\u001b[0m\u001b[0mkey\u001b[0m\u001b[0;34m]\u001b[0m\u001b[0;34m\u001b[0m\u001b[0;34m\u001b[0m\u001b[0m\n\u001b[1;32m     77\u001b[0m     \u001b[0;32mif\u001b[0m \u001b[0mlen\u001b[0m\u001b[0;34m(\u001b[0m\u001b[0mvalue\u001b[0m\u001b[0;34m)\u001b[0m \u001b[0;34m!=\u001b[0m \u001b[0;36m1\u001b[0m\u001b[0;34m:\u001b[0m\u001b[0;34m\u001b[0m\u001b[0;34m\u001b[0m\u001b[0m\n",
      "\u001b[0;31mMultipleValues\u001b[0m: key '021A' has 2 values"
     ]
    }
   ],
   "source": [
    "listdict.getone(record, \"021A\")"
   ]
  }
 ],
 "metadata": {
  "kernelspec": {
   "display_name": "Python 3",
   "language": "python",
   "name": "python3"
  },
  "language_info": {
   "codemirror_mode": {
    "name": "ipython",
    "version": 3
   },
   "file_extension": ".py",
   "mimetype": "text/x-python",
   "name": "python",
   "nbconvert_exporter": "python",
   "pygments_lexer": "ipython3",
   "version": "3.7.2"
  }
 },
 "nbformat": 4,
 "nbformat_minor": 2
}
